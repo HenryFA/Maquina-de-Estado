{
  "nbformat": 4,
  "nbformat_minor": 0,
  "metadata": {
    "colab": {
      "provenance": [],
      "collapsed_sections": [],
      "authorship_tag": "ABX9TyOMpCMTij9MD0OLp9b4W48V",
      "include_colab_link": true
    },
    "kernelspec": {
      "name": "python3",
      "display_name": "Python 3"
    },
    "language_info": {
      "name": "python"
    }
  },
  "cells": [
    {
      "cell_type": "markdown",
      "metadata": {
        "id": "view-in-github",
        "colab_type": "text"
      },
      "source": [
        "<a href=\"https://colab.research.google.com/github/HenryFA/Maquina-de-Estado/blob/main/Trabalho04.ipynb\" target=\"_parent\"><img src=\"https://colab.research.google.com/assets/colab-badge.svg\" alt=\"Open In Colab\"/></a>"
      ]
    },
    {
      "cell_type": "code",
      "source": [
        "import requests\n",
        "from bs4 import BeautifulSoup\n",
        "\n",
        "responde = requests.get('https://pt.wikipedia.org/wiki/Processamento_de_linguagem_natural')\n",
        "\n",
        "content = responde.content\n",
        "\n",
        "site = BeautifulSoup(content, 'html.parser')\n",
        "\n",
        "resultado1 = []\n",
        "\n",
        "text = site.find('div', attrs={'class': 'mw-page-container'})\n",
        "\n",
        "resultado1 = text.text\n",
        "\n",
        "\n",
        "print (resultado1.split())\n",
        "print (\"total de palavras:\", len(resultado1))\n",
        "\n",
        "##############################################\n",
        "\n",
        "responde = requests.get('https://www.sas.com/pt_br/insights/analytics/processamento-de-linguagem-natural.html')\n",
        "\n",
        "content = responde.content\n",
        "\n",
        "site = BeautifulSoup(content, 'html.parser')\n",
        "\n",
        "resultado2 = []\n",
        "\n",
        "text = site.find('main', attrs={'id': 'content'})\n",
        "\n",
        "resultado2 = text.text\n",
        "\n",
        "print (resultado2.split())\n",
        "print (\"total de palavras:\",len(resultado2))\n",
        "\n",
        "##############################################\n",
        "\n",
        "responde = requests.get('https://cloud.google.com/learn/what-is-natural-language-processing?hl=pt-br')\n",
        "\n",
        "content = responde.content\n",
        "\n",
        "site = BeautifulSoup(content, 'html.parser')\n",
        "\n",
        "resultado3 = []\n",
        "\n",
        "text = site.find('section', attrs={'id': 'gc-wrapper'})\n",
        "\n",
        "resultado3 = text.text\n",
        "\n",
        "print (resultado3.split())\n",
        "print (\"total de palavras:\",len(resultado3))\n",
        "\n",
        "############################################\n",
        "\n",
        "responde = requests.get('https://medium.com/botsbrasil/o-que-%C3%A9-o-processamento-de-linguagem-natural-49ece9371cff')\n",
        "\n",
        "content = responde.content\n",
        "\n",
        "site = BeautifulSoup(content, 'html.parser')\n",
        "\n",
        "resultado4 = []\n",
        "\n",
        "text = site.find('div', attrs={'class': 'l c'})\n",
        "\n",
        "resultado4 = text.text\n",
        "\n",
        "print (resultado4.split())\n",
        "print (\"total de palavras:\",len(resultado4))\n",
        "\n",
        "############################################\n",
        "\n",
        "responde = requests.get('https://www.take.net/blog/tecnologia/nlp-processamento-linguagem-natural/')\n",
        "\n",
        "content = responde.content\n",
        "\n",
        "site = BeautifulSoup(content, 'html.parser')\n",
        "\n",
        "resultado5 = []\n",
        "\n",
        "text = site.find('section', attrs={'class': 'elementor-section elementor-top-section elementor-element elementor-element-635e238 elementor-section-boxed elementor-section-height-default elementor-section-height-default'})\n",
        "\n",
        "resultado5 = text.text\n",
        "\n",
        "print (resultado5.split())\n",
        "print (\"total de palavras:\",len(resultado5))"
      ],
      "metadata": {
        "id": "i9kVJVs9UAu3"
      },
      "execution_count": null,
      "outputs": []
    }
  ]
}